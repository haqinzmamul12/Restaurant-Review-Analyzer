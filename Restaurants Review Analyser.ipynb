{
 "cells": [
  {
   "cell_type": "markdown",
   "id": "4a26d686",
   "metadata": {},
   "source": [
    "# Importing necessory dependencies"
   ]
  },
  {
   "cell_type": "code",
   "execution_count": 1,
   "id": "f0bfa6fe",
   "metadata": {},
   "outputs": [],
   "source": [
    "import numpy as np\n",
    "import pandas as pd \n",
    "import matplotlib.pyplot as plt \n",
    "import seaborn as sns \n",
    "%matplotlib inline "
   ]
  },
  {
   "cell_type": "code",
   "execution_count": 2,
   "id": "faeedca6",
   "metadata": {},
   "outputs": [
    {
     "data": {
      "text/html": [
       "<div>\n",
       "<style scoped>\n",
       "    .dataframe tbody tr th:only-of-type {\n",
       "        vertical-align: middle;\n",
       "    }\n",
       "\n",
       "    .dataframe tbody tr th {\n",
       "        vertical-align: top;\n",
       "    }\n",
       "\n",
       "    .dataframe thead th {\n",
       "        text-align: right;\n",
       "    }\n",
       "</style>\n",
       "<table border=\"1\" class=\"dataframe\">\n",
       "  <thead>\n",
       "    <tr style=\"text-align: right;\">\n",
       "      <th></th>\n",
       "      <th>Review</th>\n",
       "      <th>Liked</th>\n",
       "    </tr>\n",
       "  </thead>\n",
       "  <tbody>\n",
       "    <tr>\n",
       "      <th>0</th>\n",
       "      <td>Wow... Loved this place.</td>\n",
       "      <td>1</td>\n",
       "    </tr>\n",
       "    <tr>\n",
       "      <th>1</th>\n",
       "      <td>Crust is not good.</td>\n",
       "      <td>0</td>\n",
       "    </tr>\n",
       "    <tr>\n",
       "      <th>2</th>\n",
       "      <td>Not tasty and the texture was just nasty.</td>\n",
       "      <td>0</td>\n",
       "    </tr>\n",
       "    <tr>\n",
       "      <th>3</th>\n",
       "      <td>Stopped by during the late May bank holiday of...</td>\n",
       "      <td>1</td>\n",
       "    </tr>\n",
       "    <tr>\n",
       "      <th>4</th>\n",
       "      <td>The selection on the menu was great and so wer...</td>\n",
       "      <td>1</td>\n",
       "    </tr>\n",
       "  </tbody>\n",
       "</table>\n",
       "</div>"
      ],
      "text/plain": [
       "                                              Review  Liked\n",
       "0                           Wow... Loved this place.      1\n",
       "1                                 Crust is not good.      0\n",
       "2          Not tasty and the texture was just nasty.      0\n",
       "3  Stopped by during the late May bank holiday of...      1\n",
       "4  The selection on the menu was great and so wer...      1"
      ]
     },
     "execution_count": 2,
     "metadata": {},
     "output_type": "execute_result"
    }
   ],
   "source": [
    "data =pd.read_csv(\"C:/Users/inzmamul.haq/Downloads/Restaurant_Reviews.tsv\",sep='\\t')\n",
    "data.head()"
   ]
  },
  {
   "cell_type": "code",
   "execution_count": 3,
   "id": "27d9fe9a",
   "metadata": {},
   "outputs": [
    {
     "data": {
      "text/plain": [
       "(1000, 2)"
      ]
     },
     "execution_count": 3,
     "metadata": {},
     "output_type": "execute_result"
    }
   ],
   "source": [
    "data.shape"
   ]
  },
  {
   "cell_type": "markdown",
   "id": "c40cd29c",
   "metadata": {},
   "source": [
    "#Checking for null values"
   ]
  },
  {
   "cell_type": "code",
   "execution_count": 4,
   "id": "39d941d5",
   "metadata": {},
   "outputs": [
    {
     "data": {
      "text/plain": [
       "Review    0\n",
       "Liked     0\n",
       "dtype: int64"
      ]
     },
     "execution_count": 4,
     "metadata": {},
     "output_type": "execute_result"
    }
   ],
   "source": [
    "data.isnull().sum()"
   ]
  },
  {
   "cell_type": "markdown",
   "id": "3c778fa5",
   "metadata": {},
   "source": [
    "#Checking for duplicate rows"
   ]
  },
  {
   "cell_type": "code",
   "execution_count": 5,
   "id": "75f57bf1",
   "metadata": {},
   "outputs": [
    {
     "data": {
      "text/html": [
       "<div>\n",
       "<style scoped>\n",
       "    .dataframe tbody tr th:only-of-type {\n",
       "        vertical-align: middle;\n",
       "    }\n",
       "\n",
       "    .dataframe tbody tr th {\n",
       "        vertical-align: top;\n",
       "    }\n",
       "\n",
       "    .dataframe thead th {\n",
       "        text-align: right;\n",
       "    }\n",
       "</style>\n",
       "<table border=\"1\" class=\"dataframe\">\n",
       "  <thead>\n",
       "    <tr style=\"text-align: right;\">\n",
       "      <th></th>\n",
       "      <th>Review</th>\n",
       "      <th>Liked</th>\n",
       "    </tr>\n",
       "  </thead>\n",
       "  <tbody>\n",
       "    <tr>\n",
       "      <th>814</th>\n",
       "      <td>I love this place.</td>\n",
       "      <td>1</td>\n",
       "    </tr>\n",
       "    <tr>\n",
       "      <th>816</th>\n",
       "      <td>The food was terrible.</td>\n",
       "      <td>0</td>\n",
       "    </tr>\n",
       "    <tr>\n",
       "      <th>843</th>\n",
       "      <td>I won't be back.</td>\n",
       "      <td>0</td>\n",
       "    </tr>\n",
       "    <tr>\n",
       "      <th>846</th>\n",
       "      <td>I would not recommend this place.</td>\n",
       "      <td>0</td>\n",
       "    </tr>\n",
       "  </tbody>\n",
       "</table>\n",
       "</div>"
      ],
      "text/plain": [
       "                                Review  Liked\n",
       "814                 I love this place.      1\n",
       "816             The food was terrible.      0\n",
       "843                   I won't be back.      0\n",
       "846  I would not recommend this place.      0"
      ]
     },
     "execution_count": 5,
     "metadata": {},
     "output_type": "execute_result"
    }
   ],
   "source": [
    "data[data.duplicated()]"
   ]
  },
  {
   "cell_type": "code",
   "execution_count": 6,
   "id": "4da3afbe",
   "metadata": {},
   "outputs": [
    {
     "data": {
      "text/plain": [
       "1    500\n",
       "0    500\n",
       "Name: Liked, dtype: int64"
      ]
     },
     "execution_count": 6,
     "metadata": {},
     "output_type": "execute_result"
    }
   ],
   "source": [
    "data['Liked'].value_counts()"
   ]
  },
  {
   "cell_type": "code",
   "execution_count": 7,
   "id": "23c5f128",
   "metadata": {},
   "outputs": [],
   "source": [
    "data.drop_duplicates(keep='first',inplace=True)"
   ]
  },
  {
   "cell_type": "code",
   "execution_count": 8,
   "id": "1dff7cf1",
   "metadata": {},
   "outputs": [
    {
     "data": {
      "text/plain": [
       "(996, 2)"
      ]
     },
     "execution_count": 8,
     "metadata": {},
     "output_type": "execute_result"
    }
   ],
   "source": [
    "data.shape"
   ]
  },
  {
   "cell_type": "code",
   "execution_count": 9,
   "id": "3952f5b2",
   "metadata": {},
   "outputs": [],
   "source": [
    "data['char_len'] =data['Review'].apply(len)"
   ]
  },
  {
   "cell_type": "code",
   "execution_count": 10,
   "id": "5f97eed3",
   "metadata": {},
   "outputs": [],
   "source": [
    "data['token'] =data['Review'].apply(lambda x:len(x.split()))"
   ]
  },
  {
   "cell_type": "code",
   "execution_count": 11,
   "id": "e7ec4779",
   "metadata": {},
   "outputs": [
    {
     "data": {
      "text/html": [
       "<div>\n",
       "<style scoped>\n",
       "    .dataframe tbody tr th:only-of-type {\n",
       "        vertical-align: middle;\n",
       "    }\n",
       "\n",
       "    .dataframe tbody tr th {\n",
       "        vertical-align: top;\n",
       "    }\n",
       "\n",
       "    .dataframe thead th {\n",
       "        text-align: right;\n",
       "    }\n",
       "</style>\n",
       "<table border=\"1\" class=\"dataframe\">\n",
       "  <thead>\n",
       "    <tr style=\"text-align: right;\">\n",
       "      <th></th>\n",
       "      <th>Review</th>\n",
       "      <th>Liked</th>\n",
       "      <th>char_len</th>\n",
       "      <th>token</th>\n",
       "    </tr>\n",
       "  </thead>\n",
       "  <tbody>\n",
       "    <tr>\n",
       "      <th>0</th>\n",
       "      <td>Wow... Loved this place.</td>\n",
       "      <td>1</td>\n",
       "      <td>24</td>\n",
       "      <td>4</td>\n",
       "    </tr>\n",
       "    <tr>\n",
       "      <th>1</th>\n",
       "      <td>Crust is not good.</td>\n",
       "      <td>0</td>\n",
       "      <td>18</td>\n",
       "      <td>4</td>\n",
       "    </tr>\n",
       "    <tr>\n",
       "      <th>2</th>\n",
       "      <td>Not tasty and the texture was just nasty.</td>\n",
       "      <td>0</td>\n",
       "      <td>41</td>\n",
       "      <td>8</td>\n",
       "    </tr>\n",
       "    <tr>\n",
       "      <th>3</th>\n",
       "      <td>Stopped by during the late May bank holiday of...</td>\n",
       "      <td>1</td>\n",
       "      <td>87</td>\n",
       "      <td>15</td>\n",
       "    </tr>\n",
       "    <tr>\n",
       "      <th>4</th>\n",
       "      <td>The selection on the menu was great and so wer...</td>\n",
       "      <td>1</td>\n",
       "      <td>59</td>\n",
       "      <td>12</td>\n",
       "    </tr>\n",
       "  </tbody>\n",
       "</table>\n",
       "</div>"
      ],
      "text/plain": [
       "                                              Review  Liked  char_len  token\n",
       "0                           Wow... Loved this place.      1        24      4\n",
       "1                                 Crust is not good.      0        18      4\n",
       "2          Not tasty and the texture was just nasty.      0        41      8\n",
       "3  Stopped by during the late May bank holiday of...      1        87     15\n",
       "4  The selection on the menu was great and so wer...      1        59     12"
      ]
     },
     "execution_count": 11,
     "metadata": {},
     "output_type": "execute_result"
    }
   ],
   "source": [
    "data.head()"
   ]
  },
  {
   "cell_type": "markdown",
   "id": "2559dc50",
   "metadata": {},
   "source": [
    "#Checking for imbalance output variable"
   ]
  },
  {
   "cell_type": "code",
   "execution_count": 12,
   "id": "b1fa2d74",
   "metadata": {},
   "outputs": [
    {
     "data": {
      "image/png": "[encoded data removed]",
      "text/plain": [
       "<Figure size 432x288 with 1 Axes>"
      ]
     },
     "metadata": {
      "needs_background": "light"
     },
     "output_type": "display_data"
    }
   ],
   "source": [
    "mean_values =data.groupby('Liked')['token'].mean()\n",
    "\n",
    "mean_values.plot(kind='bar',color =['red','black'])\n",
    "plt.xlabel('Liked')\n",
    "plt.ylabel('mean of tokens')\n",
    "plt.xticks(rotation=0)\n",
    "plt.show()"
   ]
  },
  {
   "cell_type": "markdown",
   "id": "8f4f94c8",
   "metadata": {},
   "source": [
    "#Removing stopwords and applying stemming on the words"
   ]
  },
  {
   "cell_type": "code",
   "execution_count": 13,
   "id": "4ce3b77a",
   "metadata": {},
   "outputs": [
    {
     "name": "stderr",
     "output_type": "stream",
     "text": [
      "[nltk_data] Downloading package stopwords to\n",
      "[nltk_data]     C:\\Users\\inzmamul.haq\\AppData\\Roaming\\nltk_data...\n",
      "[nltk_data]   Package stopwords is already up-to-date!\n"
     ]
    }
   ],
   "source": [
    "import nltk \n",
    "nltk.download('stopwords')\n",
    "from nltk.corpus import stopwords"
   ]
  },
  {
   "cell_type": "code",
   "execution_count": 14,
   "id": "22cdbe34",
   "metadata": {},
   "outputs": [
    {
     "data": {
      "text/plain": [
       "['i',\n",
       " 'me',\n",
       " 'my',\n",
       " 'myself',\n",
       " 'we',\n",
       " 'our',\n",
       " 'ours',\n",
       " 'ourselves',\n",
       " 'you',\n",
       " \"you're\",\n",
       " \"you've\",\n",
       " \"you'll\",\n",
       " \"you'd\",\n",
       " 'your',\n",
       " 'yours',\n",
       " 'yourself',\n",
       " 'yourselves',\n",
       " 'he',\n",
       " 'him',\n",
       " 'his',\n",
       " 'himself',\n",
       " 'she',\n",
       " \"she's\",\n",
       " 'her',\n",
       " 'hers',\n",
       " 'herself',\n",
       " 'it',\n",
       " \"it's\",\n",
       " 'its',\n",
       " 'itself',\n",
       " 'they',\n",
       " 'them',\n",
       " 'their',\n",
       " 'theirs',\n",
       " 'themselves',\n",
       " 'what',\n",
       " 'which',\n",
       " 'who',\n",
       " 'whom',\n",
       " 'this',\n",
       " 'that',\n",
       " \"that'll\",\n",
       " 'these',\n",
       " 'those',\n",
       " 'am',\n",
       " 'is',\n",
       " 'are',\n",
       " 'was',\n",
       " 'were',\n",
       " 'be',\n",
       " 'been',\n",
       " 'being',\n",
       " 'have',\n",
       " 'has',\n",
       " 'had',\n",
       " 'having',\n",
       " 'do',\n",
       " 'does',\n",
       " 'did',\n",
       " 'doing',\n",
       " 'a',\n",
       " 'an',\n",
       " 'the',\n",
       " 'and',\n",
       " 'but',\n",
       " 'if',\n",
       " 'or',\n",
       " 'because',\n",
       " 'as',\n",
       " 'until',\n",
       " 'while',\n",
       " 'of',\n",
       " 'at',\n",
       " 'by',\n",
       " 'for',\n",
       " 'with',\n",
       " 'about',\n",
       " 'against',\n",
       " 'between',\n",
       " 'into',\n",
       " 'through',\n",
       " 'during',\n",
       " 'before',\n",
       " 'after',\n",
       " 'above',\n",
       " 'below',\n",
       " 'to',\n",
       " 'from',\n",
       " 'up',\n",
       " 'down',\n",
       " 'in',\n",
       " 'out',\n",
       " 'on',\n",
       " 'off',\n",
       " 'over',\n",
       " 'under',\n",
       " 'again',\n",
       " 'further',\n",
       " 'then',\n",
       " 'once',\n",
       " 'here',\n",
       " 'there',\n",
       " 'when',\n",
       " 'where',\n",
       " 'why',\n",
       " 'how',\n",
       " 'all',\n",
       " 'any',\n",
       " 'both',\n",
       " 'each',\n",
       " 'few',\n",
       " 'more',\n",
       " 'most',\n",
       " 'other',\n",
       " 'some',\n",
       " 'such',\n",
       " 'no',\n",
       " 'nor',\n",
       " 'not',\n",
       " 'only',\n",
       " 'own',\n",
       " 'same',\n",
       " 'so',\n",
       " 'than',\n",
       " 'too',\n",
       " 'very',\n",
       " 's',\n",
       " 't',\n",
       " 'can',\n",
       " 'will',\n",
       " 'just',\n",
       " 'don',\n",
       " \"don't\",\n",
       " 'should',\n",
       " \"should've\",\n",
       " 'now',\n",
       " 'd',\n",
       " 'll',\n",
       " 'm',\n",
       " 'o',\n",
       " 're',\n",
       " 've',\n",
       " 'y',\n",
       " 'ain',\n",
       " 'aren',\n",
       " \"aren't\",\n",
       " 'couldn',\n",
       " \"couldn't\",\n",
       " 'didn',\n",
       " \"didn't\",\n",
       " 'doesn',\n",
       " \"doesn't\",\n",
       " 'hadn',\n",
       " \"hadn't\",\n",
       " 'hasn',\n",
       " \"hasn't\",\n",
       " 'haven',\n",
       " \"haven't\",\n",
       " 'isn',\n",
       " \"isn't\",\n",
       " 'ma',\n",
       " 'mightn',\n",
       " \"mightn't\",\n",
       " 'mustn',\n",
       " \"mustn't\",\n",
       " 'needn',\n",
       " \"needn't\",\n",
       " 'shan',\n",
       " \"shan't\",\n",
       " 'shouldn',\n",
       " \"shouldn't\",\n",
       " 'wasn',\n",
       " \"wasn't\",\n",
       " 'weren',\n",
       " \"weren't\",\n",
       " 'won',\n",
       " \"won't\",\n",
       " 'wouldn',\n",
       " \"wouldn't\"]"
      ]
     },
     "execution_count": 14,
     "metadata": {},
     "output_type": "execute_result"
    }
   ],
   "source": [
    "stopwords =stopwords.words('english')\n",
    "stopwords"
   ]
  },
  {
   "cell_type": "code",
   "execution_count": 15,
   "id": "81738f76",
   "metadata": {},
   "outputs": [],
   "source": [
    "custom_stopwords ={\"aren't\",\"couldn't\",\"didn't\",\"doesn't\",\"don't\",\"hadn't\",\"hasn't\",\"haven't\",\"isn't\",\"mightn't\",\"mustn't\",\n",
    "                   \"needn't\",'not',\"shan't\", \"shouldn't\",\"wasn't\",\"weren't\",\"won't\",\"wouldn't\",\"don\",\"ain\",\"aren\",\"hadn\",\n",
    "                  \"hasn\",\"haven\",\"isn\",\"ma\",\"mightn\",\"mustn\",\"needn\",\"shan\",\"no\",\"nor\",\"shouldn\",\"wasn\",\"weren\",\"won\",\"wouldn\"}"
   ]
  },
  {
   "cell_type": "code",
   "execution_count": 16,
   "id": "c700e666",
   "metadata": {},
   "outputs": [],
   "source": [
    "stopwords =set(stopwords)-custom_stopwords"
   ]
  },
  {
   "cell_type": "code",
   "execution_count": 17,
   "id": "18d41220",
   "metadata": {},
   "outputs": [],
   "source": [
    "import re\n",
    "from nltk.stem import PorterStemmer\n",
    "ps =PorterStemmer()"
   ]
  },
  {
   "cell_type": "markdown",
   "id": "54672493",
   "metadata": {},
   "source": [
    "#Cleaning dataset"
   ]
  },
  {
   "cell_type": "code",
   "execution_count": 18,
   "id": "b710575d",
   "metadata": {},
   "outputs": [],
   "source": [
    "\n",
    "\n",
    "corpus =[]\n",
    "for i in range(len(data)):\n",
    "    review =re.sub('[^a-zA-Z]',' ',data['Review'].iloc[i])\n",
    "    review =review.lower() \n",
    "    review =review.split() \n",
    "    review =[ps.stem(w) for w in review if w not in stopwords]\n",
    "    review =' '.join(review)\n",
    "    corpus.append(review)\n",
    "data['processed_Review'] =corpus"
   ]
  },
  {
   "cell_type": "code",
   "execution_count": 19,
   "id": "d5324214",
   "metadata": {},
   "outputs": [
    {
     "data": {
      "text/plain": [
       "0                                       wow love place\n",
       "1                                       crust not good\n",
       "2                               not tasti textur nasti\n",
       "3    stop late may bank holiday rick steve recommen...\n",
       "4                              select menu great price\n",
       "Name: processed_Review, dtype: object"
      ]
     },
     "execution_count": 19,
     "metadata": {},
     "output_type": "execute_result"
    }
   ],
   "source": [
    "data['processed_Review'].head()"
   ]
  },
  {
   "cell_type": "code",
   "execution_count": 20,
   "id": "cc264074",
   "metadata": {},
   "outputs": [
    {
     "name": "stdout",
     "output_type": "stream",
     "text": [
      "Requirement already satisfied: nltk in c:\\users\\inzmamul.haq\\anaconda3\\lib\\site-packages (3.7)\n",
      "Requirement already satisfied: wordcloud in c:\\users\\inzmamul.haq\\anaconda3\\lib\\site-packages (1.9.3)\n",
      "Requirement already satisfied: matplotlib in c:\\users\\inzmamul.haq\\anaconda3\\lib\\site-packages (3.5.1)\n",
      "Requirement already satisfied: click in c:\\users\\inzmamul.haq\\anaconda3\\lib\\site-packages (from nltk) (8.0.4)\n",
      "Requirement already satisfied: joblib in c:\\users\\inzmamul.haq\\anaconda3\\lib\\site-packages (from nltk) (1.4.2)\n",
      "Requirement already satisfied: regex>=2021.8.3 in c:\\users\\inzmamul.haq\\appdata\\roaming\\python\\python39\\site-packages (from nltk) (2023.8.8)\n",
      "Requirement already satisfied: tqdm in c:\\users\\inzmamul.haq\\appdata\\roaming\\python\\python39\\site-packages (from nltk) (4.66.1)\n",
      "Requirement already satisfied: numpy>=1.6.1 in c:\\users\\inzmamul.haq\\anaconda3\\lib\\site-packages (from wordcloud) (1.21.5)\n",
      "Requirement already satisfied: pillow in c:\\users\\inzmamul.haq\\anaconda3\\lib\\site-packages (from wordcloud) (10.4.0)\n",
      "Requirement already satisfied: cycler>=0.10 in c:\\users\\inzmamul.haq\\anaconda3\\lib\\site-packages (from matplotlib) (0.11.0)\n",
      "Requirement already satisfied: fonttools>=4.22.0 in c:\\users\\inzmamul.haq\\anaconda3\\lib\\site-packages (from matplotlib) (4.25.0)\n",
      "Requirement already satisfied: kiwisolver>=1.0.1 in c:\\users\\inzmamul.haq\\anaconda3\\lib\\site-packages (from matplotlib) (1.3.2)\n",
      "Requirement already satisfied: packaging>=20.0 in c:\\users\\inzmamul.haq\\appdata\\roaming\\python\\python39\\site-packages (from matplotlib) (23.1)\n",
      "Requirement already satisfied: pyparsing>=2.2.1 in c:\\users\\inzmamul.haq\\anaconda3\\lib\\site-packages (from matplotlib) (3.0.4)Note: you may need to restart the kernel to use updated packages.\n",
      "Requirement already satisfied: python-dateutil>=2.7 in c:\\users\\inzmamul.haq\\anaconda3\\lib\\site-packages (from matplotlib) (2.8.2)\n",
      "Requirement already satisfied: six>=1.5 in c:\\users\\inzmamul.haq\\anaconda3\\lib\\site-packages (from python-dateutil>=2.7->matplotlib) (1.16.0)\n",
      "Requirement already satisfied: colorama in c:\\users\\inzmamul.haq\\appdata\\roaming\\python\\python39\\site-packages (from click->nltk) (0.4.6)\n",
      "\n"
     ]
    },
    {
     "name": "stderr",
     "output_type": "stream",
     "text": [
      "\n",
      "[notice] A new release of pip is available: 23.2.1 -> 24.1.2\n",
      "[notice] To update, run: python.exe -m pip install --upgrade pip\n"
     ]
    }
   ],
   "source": [
    "pip install nltk wordcloud matplotlib"
   ]
  },
  {
   "cell_type": "code",
   "execution_count": 21,
   "id": "67beb94e",
   "metadata": {},
   "outputs": [],
   "source": [
    "from wordcloud import WordCloud"
   ]
  },
  {
   "cell_type": "code",
   "execution_count": 22,
   "id": "e8efd200",
   "metadata": {},
   "outputs": [],
   "source": [
    "#data[data['Liked']==1]['processed_Review'].str.cat(sep=' ')\n",
    "filtered_data =data[data['Liked']==1]\n",
    "text =' '.join(filtered_data['processed_Review'])"
   ]
  },
  {
   "cell_type": "code",
   "execution_count": 23,
   "id": "57dfe235",
   "metadata": {},
   "outputs": [],
   "source": [
    "#wc =WordCloud(width=500,height=500,min_font_size=8,background_color='white').generate(text)\n",
    "#plt.imshow(wc)"
   ]
  },
  {
   "cell_type": "code",
   "execution_count": 24,
   "id": "fc46dcb1",
   "metadata": {},
   "outputs": [
    {
     "data": {
      "text/html": [
       "<div>\n",
       "<style scoped>\n",
       "    .dataframe tbody tr th:only-of-type {\n",
       "        vertical-align: middle;\n",
       "    }\n",
       "\n",
       "    .dataframe tbody tr th {\n",
       "        vertical-align: top;\n",
       "    }\n",
       "\n",
       "    .dataframe thead th {\n",
       "        text-align: right;\n",
       "    }\n",
       "</style>\n",
       "<table border=\"1\" class=\"dataframe\">\n",
       "  <thead>\n",
       "    <tr style=\"text-align: right;\">\n",
       "      <th></th>\n",
       "      <th>Review</th>\n",
       "      <th>Liked</th>\n",
       "      <th>char_len</th>\n",
       "      <th>token</th>\n",
       "      <th>processed_Review</th>\n",
       "    </tr>\n",
       "  </thead>\n",
       "  <tbody>\n",
       "    <tr>\n",
       "      <th>0</th>\n",
       "      <td>Wow... Loved this place.</td>\n",
       "      <td>1</td>\n",
       "      <td>24</td>\n",
       "      <td>4</td>\n",
       "      <td>wow love place</td>\n",
       "    </tr>\n",
       "    <tr>\n",
       "      <th>1</th>\n",
       "      <td>Crust is not good.</td>\n",
       "      <td>0</td>\n",
       "      <td>18</td>\n",
       "      <td>4</td>\n",
       "      <td>crust not good</td>\n",
       "    </tr>\n",
       "    <tr>\n",
       "      <th>2</th>\n",
       "      <td>Not tasty and the texture was just nasty.</td>\n",
       "      <td>0</td>\n",
       "      <td>41</td>\n",
       "      <td>8</td>\n",
       "      <td>not tasti textur nasti</td>\n",
       "    </tr>\n",
       "    <tr>\n",
       "      <th>3</th>\n",
       "      <td>Stopped by during the late May bank holiday of...</td>\n",
       "      <td>1</td>\n",
       "      <td>87</td>\n",
       "      <td>15</td>\n",
       "      <td>stop late may bank holiday rick steve recommen...</td>\n",
       "    </tr>\n",
       "    <tr>\n",
       "      <th>4</th>\n",
       "      <td>The selection on the menu was great and so wer...</td>\n",
       "      <td>1</td>\n",
       "      <td>59</td>\n",
       "      <td>12</td>\n",
       "      <td>select menu great price</td>\n",
       "    </tr>\n",
       "  </tbody>\n",
       "</table>\n",
       "</div>"
      ],
      "text/plain": [
       "                                              Review  Liked  char_len  token  \\\n",
       "0                           Wow... Loved this place.      1        24      4   \n",
       "1                                 Crust is not good.      0        18      4   \n",
       "2          Not tasty and the texture was just nasty.      0        41      8   \n",
       "3  Stopped by during the late May bank holiday of...      1        87     15   \n",
       "4  The selection on the menu was great and so wer...      1        59     12   \n",
       "\n",
       "                                    processed_Review  \n",
       "0                                     wow love place  \n",
       "1                                     crust not good  \n",
       "2                             not tasti textur nasti  \n",
       "3  stop late may bank holiday rick steve recommen...  \n",
       "4                            select menu great price  "
      ]
     },
     "execution_count": 24,
     "metadata": {},
     "output_type": "execute_result"
    }
   ],
   "source": [
    "data.head()"
   ]
  },
  {
   "cell_type": "code",
   "execution_count": 25,
   "id": "c7fa0a81",
   "metadata": {},
   "outputs": [],
   "source": [
    "from sklearn.model_selection import train_test_split\n",
    "from sklearn.metrics import accuracy_score,classification_report\n",
    "from sklearn.feature_extraction.text import CountVectorizer"
   ]
  },
  {
   "cell_type": "code",
   "execution_count": 26,
   "id": "81d9edd1",
   "metadata": {},
   "outputs": [],
   "source": [
    "cv =CountVectorizer(max_features=1000)\n",
    "X =cv.fit_transform(data['processed_Review']).toarray() \n",
    "y =data['Liked']"
   ]
  },
  {
   "cell_type": "code",
   "execution_count": 27,
   "id": "7bbc7a52",
   "metadata": {},
   "outputs": [
    {
     "data": {
      "text/plain": [
       "((996, 1000), (996,))"
      ]
     },
     "execution_count": 27,
     "metadata": {},
     "output_type": "execute_result"
    }
   ],
   "source": [
    "X.shape,y.shape"
   ]
  },
  {
   "cell_type": "markdown",
   "id": "97f2dc94",
   "metadata": {},
   "source": [
    "#splitting data into train & test dataset"
   ]
  },
  {
   "cell_type": "code",
   "execution_count": 28,
   "id": "5194f74c",
   "metadata": {},
   "outputs": [],
   "source": [
    "X_train,X_test,y_train,y_test =train_test_split(X,y,test_size=0.2,random_state=42)"
   ]
  },
  {
   "cell_type": "code",
   "execution_count": 29,
   "id": "af87ceed",
   "metadata": {},
   "outputs": [],
   "source": [
    "from sklearn.pipeline import Pipeline\n",
    "from sklearn.ensemble import RandomForestClassifier \n",
    "from sklearn.preprocessing import StandardScaler\n",
    "from sklearn.linear_model import LogisticRegression \n",
    "from sklearn.tree import DecisionTreeClassifier \n",
    "from sklearn.naive_bayes import GaussianNB \n",
    "from sklearn.svm import SVC"
   ]
  },
  {
   "cell_type": "markdown",
   "id": "728c77de",
   "metadata": {},
   "source": [
    "#Training the models in pipeline & selecing optimal one "
   ]
  },
  {
   "cell_type": "code",
   "execution_count": 30,
   "id": "665b5e0a",
   "metadata": {},
   "outputs": [],
   "source": [
    "models ={'Random Forest':RandomForestClassifier(),\n",
    "        'Logistic Regression':LogisticRegression(),\n",
    "        'Decision Tree':DecisionTreeClassifier(),\n",
    "        'GaussianNB':GaussianNB(),\n",
    "        'svc':SVC()}"
   ]
  },
  {
   "cell_type": "code",
   "execution_count": 31,
   "id": "461c9f3f",
   "metadata": {},
   "outputs": [
    {
     "name": "stdout",
     "output_type": "stream",
     "text": [
      "Accuracy Score for the Random Forest:0.83\n",
      "classification report for the Random Forest:              precision    recall  f1-score   support\n",
      "\n",
      "           0       0.80      0.91      0.85       106\n",
      "           1       0.88      0.74      0.80        94\n",
      "\n",
      "    accuracy                           0.83       200\n",
      "   macro avg       0.84      0.83      0.83       200\n",
      "weighted avg       0.84      0.83      0.83       200\n",
      "\n",
      "***************************************************************\n",
      "Accuracy Score for the Logistic Regression:0.775\n",
      "classification report for the Logistic Regression:              precision    recall  f1-score   support\n",
      "\n",
      "           0       0.78      0.80      0.79       106\n",
      "           1       0.77      0.74      0.76        94\n",
      "\n",
      "    accuracy                           0.78       200\n",
      "   macro avg       0.77      0.77      0.77       200\n",
      "weighted avg       0.77      0.78      0.77       200\n",
      "\n",
      "***************************************************************\n",
      "Accuracy Score for the Decision Tree:0.74\n",
      "classification report for the Decision Tree:              precision    recall  f1-score   support\n",
      "\n",
      "           0       0.74      0.78      0.76       106\n",
      "           1       0.74      0.69      0.71        94\n",
      "\n",
      "    accuracy                           0.74       200\n",
      "   macro avg       0.74      0.74      0.74       200\n",
      "weighted avg       0.74      0.74      0.74       200\n",
      "\n",
      "***************************************************************\n",
      "Accuracy Score for the GaussianNB:0.635\n",
      "classification report for the GaussianNB:              precision    recall  f1-score   support\n",
      "\n",
      "           0       0.70      0.55      0.61       106\n",
      "           1       0.59      0.73      0.65        94\n",
      "\n",
      "    accuracy                           0.64       200\n",
      "   macro avg       0.64      0.64      0.63       200\n",
      "weighted avg       0.65      0.64      0.63       200\n",
      "\n",
      "***************************************************************\n",
      "Accuracy Score for the svc:0.73\n",
      "classification report for the svc:              precision    recall  f1-score   support\n",
      "\n",
      "           0       0.72      0.80      0.76       106\n",
      "           1       0.74      0.65      0.69        94\n",
      "\n",
      "    accuracy                           0.73       200\n",
      "   macro avg       0.73      0.73      0.73       200\n",
      "weighted avg       0.73      0.73      0.73       200\n",
      "\n",
      "***************************************************************\n"
     ]
    }
   ],
   "source": [
    "for name,model in models.items():\n",
    "    pipeline =Pipeline([\n",
    "        ('scaler',StandardScaler()),\n",
    "        ('classifier',model)])\n",
    "    pipeline.fit(X_train,y_train) \n",
    "    y_pred =pipeline.predict(X_test)\n",
    "    print(f'Accuracy Score for the {name}:{accuracy_score(y_test,y_pred)}')\n",
    "    print(f'classification report for the {name}:{classification_report(y_test,y_pred)}')\n",
    "    print('***************************************************************')"
   ]
  },
  {
   "cell_type": "markdown",
   "id": "6ce34dda",
   "metadata": {},
   "source": [
    "#Fitting the model on entire dataset"
   ]
  },
  {
   "cell_type": "code",
   "execution_count": 34,
   "id": "50c2dd31",
   "metadata": {},
   "outputs": [
    {
     "data": {
      "text/plain": [
       "RandomForestClassifier()"
      ]
     },
     "execution_count": 34,
     "metadata": {},
     "output_type": "execute_result"
    }
   ],
   "source": [
    "model =RandomForestClassifier() \n",
    "model.fit(X,y)"
   ]
  },
  {
   "cell_type": "code",
   "execution_count": 35,
   "id": "68b2944a",
   "metadata": {},
   "outputs": [],
   "source": [
    "import joblib\n",
    "import ipywidgets as widgets\n",
    "from IPython.display import display"
   ]
  },
  {
   "cell_type": "markdown",
   "id": "2e61c818",
   "metadata": {},
   "source": [
    "#Saving & Loading the model using joblib"
   ]
  },
  {
   "cell_type": "code",
   "execution_count": 36,
   "id": "6c6da2e5",
   "metadata": {},
   "outputs": [
    {
     "data": {
      "text/plain": [
       "['cv']"
      ]
     },
     "execution_count": 36,
     "metadata": {},
     "output_type": "execute_result"
    }
   ],
   "source": [
    "joblib.dump(model,'rf')\n",
    "joblib.dump(cv,'cv')"
   ]
  },
  {
   "cell_type": "markdown",
   "id": "5a2d6cbe",
   "metadata": {},
   "source": [
    "#User Interface"
   ]
  },
  {
   "cell_type": "code",
   "execution_count": 37,
   "id": "7fc43bbc",
   "metadata": {},
   "outputs": [
    {
     "data": {
      "application/vnd.jupyter.widget-view+json": {
       "model_id": "1eb381e26dad4e93b6572635b0152b09",
       "version_major": 2,
       "version_minor": 0
      },
      "text/plain": [
       "Text(value='', description='Please drop your feedback:', layout=Layout(width='500px'))"
      ]
     },
     "metadata": {},
     "output_type": "display_data"
    },
    {
     "data": {
      "application/vnd.jupyter.widget-view+json": {
       "model_id": "5046fcd7c13743549100e00de0494dc4",
       "version_major": 2,
       "version_minor": 0
      },
      "text/plain": [
       "Button(button_style='info', description='Predict', layout=Layout(margin='0 auto', width='300px'), style=Button…"
      ]
     },
     "metadata": {},
     "output_type": "display_data"
    },
    {
     "data": {
      "application/vnd.jupyter.widget-view+json": {
       "model_id": "b13bf81e3a5c4eff856113cd45ab2fc8",
       "version_major": 2,
       "version_minor": 0
      },
      "text/plain": [
       "Label(value='')"
      ]
     },
     "metadata": {},
     "output_type": "display_data"
    }
   ],
   "source": [
    "model =joblib.load('rf')\n",
    "cv =joblib.load('cv')\n",
    "\n",
    "def getResult(review):\n",
    "    review =re.sub('[^a-zA-Z]',' ',review)\n",
    "    review =review.lower() \n",
    "    review =review.split() \n",
    "    review =[ps.stem(w) for w in review if w not in stopwords]\n",
    "    review =' '.join(review)\n",
    "    transformed_review =cv.transform([review])\n",
    "    res =model.predict(transformed_review)\n",
    "    result_label.value =\"Oops! Customer didn't like it...\" if res[0]==0 else \"Hurray! Customer liked it..\"\n",
    "\n",
    "review =widgets.Text(description='Please drop your feedback:',\n",
    "                     layout=widgets.Layout(width='500px'),\n",
    "                    style ={'description-width':'150px'}\n",
    "                    )\n",
    "\n",
    "button =widgets.Button(description='Predict',\n",
    "                       button_style='info',\n",
    "                       layout=widgets.Layout(width='300px',margin='0 auto'))\n",
    "\n",
    "result_label =widgets.Label()\n",
    "def on_button_click(b):\n",
    "    getResult(review.value)\n",
    "\n",
    "button.on_click(on_button_click)\n",
    "display(review,button,result_label)"
   ]
  },
  {
   "cell_type": "code",
   "execution_count": null,
   "id": "375e3200",
   "metadata": {},
   "outputs": [],
   "source": []
  }
 ],
 "metadata": {
  "kernelspec": {
   "display_name": "Python 3 (ipykernel)",
   "language": "python",
   "name": "python3"
  },
  "language_info": {
   "codemirror_mode": {
    "name": "ipython",
    "version": 3
   },
   "file_extension": ".py",
   "mimetype": "text/x-python",
   "name": "python",
   "nbconvert_exporter": "python",
   "pygments_lexer": "ipython3",
   "version": "3.9.12"
  }
 },
 "nbformat": 4,
 "nbformat_minor": 5
}
